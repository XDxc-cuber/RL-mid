{
 "cells": [
  {
   "cell_type": "code",
   "execution_count": 1,
   "id": "fbd0d51c",
   "metadata": {},
   "outputs": [],
   "source": [
    "import json, time, datetime, math, csv, copy, sys\n",
    "from dateutil.parser import parse\n",
    "\n",
    "\n",
    "# read worker attribute: worker_quality\n",
    "worker_quality = {}\n",
    "csvfile = open(\"worker_quality.csv\", \"r\")\n",
    "csvreader = csv.reader(csvfile)\n",
    "for line in csvreader:\n",
    "    if \"work\" in line[1]:\n",
    "        continue\n",
    "    if float(line[1]) > 0.0:\n",
    "        worker_quality[int(line[0])] = float(line[1]) / 100.0\n",
    "csvfile.close()\n",
    "\n",
    "\n"
   ]
  },
  {
   "cell_type": "code",
   "execution_count": null,
   "id": "a7e3c812",
   "metadata": {},
   "outputs": [
    {
     "ename": "KeyError",
     "evalue": "'worker'",
     "output_type": "error",
     "traceback": [
      "\u001b[1;31m---------------------------------------------------------------------------\u001b[0m",
      "\u001b[1;31mKeyError\u001b[0m                                  Traceback (most recent call last)",
      "Cell \u001b[1;32mIn[2], line 57\u001b[0m\n\u001b[0;32m     53\u001b[0m             entry_info[project_id][entry_number] \u001b[38;5;241m=\u001b[39m {}\n\u001b[0;32m     54\u001b[0m             entry_info[project_id][entry_number][\u001b[38;5;124m\"\u001b[39m\u001b[38;5;124mentry_created_at\u001b[39m\u001b[38;5;124m\"\u001b[39m] \u001b[38;5;241m=\u001b[39m parse(\n\u001b[0;32m     55\u001b[0m                 item[\u001b[38;5;124m\"\u001b[39m\u001b[38;5;124mentry_created_at\u001b[39m\u001b[38;5;124m\"\u001b[39m])  \u001b[38;5;66;03m# worker answer_time\u001b[39;00m\n\u001b[0;32m     56\u001b[0m             entry_info[project_id][entry_number][\u001b[38;5;124m\"\u001b[39m\u001b[38;5;124mworker\u001b[39m\u001b[38;5;124m\"\u001b[39m] \u001b[38;5;241m=\u001b[39m \u001b[38;5;28mint\u001b[39m(\n\u001b[1;32m---> 57\u001b[0m                 \u001b[43mitem\u001b[49m\u001b[43m[\u001b[49m\u001b[38;5;124;43m\"\u001b[39;49m\u001b[38;5;124;43mworker\u001b[39;49m\u001b[38;5;124;43m\"\u001b[39;49m\u001b[43m]\u001b[49m)  \u001b[38;5;66;03m# work_id\u001b[39;00m\n\u001b[0;32m     58\u001b[0m         k \u001b[38;5;241m+\u001b[39m\u001b[38;5;241m=\u001b[39m limit\n\u001b[0;32m     60\u001b[0m \u001b[38;5;28mprint\u001b[39m(\u001b[38;5;124m\"\u001b[39m\u001b[38;5;124mfinish read_data\u001b[39m\u001b[38;5;124m\"\u001b[39m)\n",
      "\u001b[1;31mKeyError\u001b[0m: 'worker'"
     ]
    }
   ],
   "source": [
    "# read project id\n",
    "file = open(\"project_list.csv\", \"r\")\n",
    "project_list_lines = file.readlines()\n",
    "file.close()\n",
    "project_dir = \"project/\"\n",
    "entry_dir = \"entry/\"\n",
    "\n",
    "all_begin_time = parse(\"2018-01-01T0:0:0Z\")\n",
    "\n",
    "project_info = {}\n",
    "entry_info = {}\n",
    "limit = 24\n",
    "industry_list = {}\n",
    "for line in project_list_lines:\n",
    "    line = line.strip('\\n').split(',')\n",
    "\n",
    "    project_id = int(line[0])\n",
    "    entry_count = int(line[1])\n",
    "\n",
    "    file = open(project_dir + \"project_\" + str(project_id) + \".txt\", \"r\")\n",
    "    htmlcode = file.read()\n",
    "    file.close()\n",
    "    text = json.loads(htmlcode)\n",
    "\n",
    "    project_info[project_id] = {}\n",
    "    project_info[project_id][\"sub_category\"] = int(\n",
    "        text[\"sub_category\"])  # project sub_category\n",
    "    project_info[project_id][\"category\"] = int(\n",
    "        text[\"category\"])  # project category\n",
    "    project_info[project_id][\"entry_count\"] = int(\n",
    "        text[\"entry_count\"])  # project answers in total\n",
    "    project_info[project_id][\"start_date\"] = parse(\n",
    "        text[\"start_date\"])  # project start date\n",
    "    project_info[project_id][\"deadline\"] = parse(\n",
    "        text[\"deadline\"])  # project end date\n",
    "\n",
    "    if text[\"industry\"] not in industry_list:\n",
    "        industry_list[text[\"industry\"]] = len(industry_list)\n",
    "    # project domain\n",
    "    project_info[project_id][\"industry\"] = industry_list[text[\"industry\"]]\n",
    "\n",
    "    entry_info[project_id] = {}\n",
    "    k = 0\n",
    "    while (k < entry_count):\n",
    "        file = open(entry_dir + \"entry_\" + str(project_id) +\n",
    "                    \"_\" + str(k) + \".txt\", \"r\")\n",
    "        htmlcode = file.read()\n",
    "        file.close()\n",
    "        text = json.loads(htmlcode)\n",
    "\n",
    "        for item in text[\"results\"]:\n",
    "            entry_number = int(item[\"entry_number\"])\n",
    "            entry_info[project_id][entry_number] = {}\n",
    "            entry_info[project_id][entry_number][\"entry_created_at\"] = parse(\n",
    "                item[\"entry_created_at\"])  # worker answer_time\n",
    "            entry_info[project_id][entry_number][\"worker\"] = int(\n",
    "                item[\"worker\"])  # work_id# 有问题\n",
    "        k += limit\n",
    "\n",
    "print(\"finish read_data\")"
   ]
  },
  {
   "cell_type": "code",
   "execution_count": null,
   "id": "604ef55c",
   "metadata": {},
   "outputs": [],
   "source": []
  }
 ],
 "metadata": {
  "kernelspec": {
   "display_name": "xc",
   "language": "python",
   "name": "python3"
  },
  "language_info": {
   "codemirror_mode": {
    "name": "ipython",
    "version": 3
   },
   "file_extension": ".py",
   "mimetype": "text/x-python",
   "name": "python",
   "nbconvert_exporter": "python",
   "pygments_lexer": "ipython3",
   "version": "3.10.11"
  }
 },
 "nbformat": 4,
 "nbformat_minor": 5
}
