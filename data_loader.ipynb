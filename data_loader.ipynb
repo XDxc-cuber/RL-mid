{
 "cells": [
  {
   "cell_type": "code",
   "execution_count": 2,
   "id": "912ad39a",
   "metadata": {},
   "outputs": [],
   "source": [
    "import pandas as pd\n",
    "\n",
    "data_path = \"data/\""
   ]
  },
  {
   "cell_type": "markdown",
   "id": "b927ab44",
   "metadata": {},
   "source": [
    "## read worker"
   ]
  },
  {
   "cell_type": "code",
   "execution_count": 3,
   "id": "9c8c1602",
   "metadata": {},
   "outputs": [
    {
     "data": {
      "text/html": [
       "<div>\n",
       "<style scoped>\n",
       "    .dataframe tbody tr th:only-of-type {\n",
       "        vertical-align: middle;\n",
       "    }\n",
       "\n",
       "    .dataframe tbody tr th {\n",
       "        vertical-align: top;\n",
       "    }\n",
       "\n",
       "    .dataframe thead th {\n",
       "        text-align: right;\n",
       "    }\n",
       "</style>\n",
       "<table border=\"1\" class=\"dataframe\">\n",
       "  <thead>\n",
       "    <tr style=\"text-align: right;\">\n",
       "      <th></th>\n",
       "      <th>worker_id</th>\n",
       "      <th>worker_quality</th>\n",
       "    </tr>\n",
       "  </thead>\n",
       "  <tbody>\n",
       "    <tr>\n",
       "      <th>0</th>\n",
       "      <td>2392073</td>\n",
       "      <td>-1</td>\n",
       "    </tr>\n",
       "    <tr>\n",
       "      <th>1</th>\n",
       "      <td>2527235</td>\n",
       "      <td>73</td>\n",
       "    </tr>\n",
       "    <tr>\n",
       "      <th>2</th>\n",
       "      <td>2531356</td>\n",
       "      <td>73</td>\n",
       "    </tr>\n",
       "    <tr>\n",
       "      <th>3</th>\n",
       "      <td>2400287</td>\n",
       "      <td>75</td>\n",
       "    </tr>\n",
       "    <tr>\n",
       "      <th>4</th>\n",
       "      <td>2523170</td>\n",
       "      <td>71</td>\n",
       "    </tr>\n",
       "  </tbody>\n",
       "</table>\n",
       "</div>"
      ],
      "text/plain": [
       "   worker_id  worker_quality\n",
       "0    2392073              -1\n",
       "1    2527235              73\n",
       "2    2531356              73\n",
       "3    2400287              75\n",
       "4    2523170              71"
      ]
     },
     "execution_count": 3,
     "metadata": {},
     "output_type": "execute_result"
    }
   ],
   "source": [
    "worker_data = pd.read_csv(data_path + \"worker_quality.csv\")\n",
    "worker_data.head()"
   ]
  },
  {
   "cell_type": "code",
   "execution_count": 10,
   "id": "578ef8b5",
   "metadata": {},
   "outputs": [],
   "source": [
    "worker = {}\n",
    "for i in range(worker_data.shape[0]):\n",
    "    worker[int(worker_data.iloc[i][\"worker_id\"])] \\\n",
    "        = int(worker_data.iloc[i][\"worker_quality\"])"
   ]
  },
  {
   "cell_type": "code",
   "execution_count": 11,
   "id": "17e8eba5",
   "metadata": {},
   "outputs": [
    {
     "data": {
      "text/plain": [
       "1807"
      ]
     },
     "execution_count": 11,
     "metadata": {},
     "output_type": "execute_result"
    }
   ],
   "source": [
    "len(worker)"
   ]
  },
  {
   "cell_type": "markdown",
   "id": "51cb0898",
   "metadata": {},
   "source": [
    "## read project"
   ]
  },
  {
   "cell_type": "code",
   "execution_count": 15,
   "id": "3e4fe3f3",
   "metadata": {},
   "outputs": [
    {
     "data": {
      "text/html": [
       "<div>\n",
       "<style scoped>\n",
       "    .dataframe tbody tr th:only-of-type {\n",
       "        vertical-align: middle;\n",
       "    }\n",
       "\n",
       "    .dataframe tbody tr th {\n",
       "        vertical-align: top;\n",
       "    }\n",
       "\n",
       "    .dataframe thead th {\n",
       "        text-align: right;\n",
       "    }\n",
       "</style>\n",
       "<table border=\"1\" class=\"dataframe\">\n",
       "  <thead>\n",
       "    <tr style=\"text-align: right;\">\n",
       "      <th></th>\n",
       "      <th>0</th>\n",
       "      <th>1</th>\n",
       "    </tr>\n",
       "  </thead>\n",
       "  <tbody>\n",
       "    <tr>\n",
       "      <th>0</th>\n",
       "      <td>2908089</td>\n",
       "      <td>99</td>\n",
       "    </tr>\n",
       "    <tr>\n",
       "      <th>1</th>\n",
       "      <td>2909696</td>\n",
       "      <td>105</td>\n",
       "    </tr>\n",
       "    <tr>\n",
       "      <th>2</th>\n",
       "      <td>2909401</td>\n",
       "      <td>127</td>\n",
       "    </tr>\n",
       "    <tr>\n",
       "      <th>3</th>\n",
       "      <td>2909378</td>\n",
       "      <td>74</td>\n",
       "    </tr>\n",
       "    <tr>\n",
       "      <th>4</th>\n",
       "      <td>2909457</td>\n",
       "      <td>36</td>\n",
       "    </tr>\n",
       "  </tbody>\n",
       "</table>\n",
       "</div>"
      ],
      "text/plain": [
       "         0    1\n",
       "0  2908089   99\n",
       "1  2909696  105\n",
       "2  2909401  127\n",
       "3  2909378   74\n",
       "4  2909457   36"
      ]
     },
     "execution_count": 15,
     "metadata": {},
     "output_type": "execute_result"
    }
   ],
   "source": [
    "project_list = pd.read_csv(data_path + \"project_list.csv\", header=None)\n",
    "project_list.head()"
   ]
  },
  {
   "cell_type": "markdown",
   "id": "0bab0b98",
   "metadata": {},
   "source": [
    "project_info结构：\n",
    "key为project_id，value为：\n",
    "* sub_category：项目子类别\n",
    "* category：项目大类\n",
    "* entry_count：项目entry的数目，相当于子任务\n",
    "* entry_ids：每个entry的id\n",
    "* client_feedback：请求者的反馈分数\n",
    "* average_score：所有entry的平均分\n",
    "* total_awards：项目给出的报酬\n",
    "* start_date：开始时间\n",
    "* deadline：结束时间\n"
   ]
  },
  {
   "cell_type": "code",
   "execution_count": 20,
   "id": "813d7ee4",
   "metadata": {},
   "outputs": [
    {
     "data": {
      "text/plain": [
       "2489"
      ]
     },
     "execution_count": 20,
     "metadata": {},
     "output_type": "execute_result"
    }
   ],
   "source": [
    "import json\n",
    "\n",
    "\n",
    "entry_path = data_path + \"entry/\"\n",
    "project_path = data_path + \"project/\"\n",
    "\n",
    "project_info = {}\n",
    "for i in range(project_list.shape[0]):\n",
    "    project_id, entry_count = int(project_list.iloc[i][0]), int(project_list.iloc[i][1])\n",
    "    \n",
    "    # 未发布任务的project跳过\n",
    "    if entry_count <= 0:\n",
    "        continue\n",
    "    \n",
    "    p_dict = {} # 单个项目的属性\n",
    "    chosen_attr = [\"sub_category\", \"category\", \"entry_count\", \\\n",
    "                   \"client_feedback\", \"average_score\", \"total_awards\",\\\n",
    "                    \"start_date\", \"deadline\", \"entry_ids\"]\n",
    "    with open(project_path + \"project_%d.txt\" % project_id, \"r\") as f:\n",
    "        project_data = json.loads(f.readlines()[0])\n",
    "        for attr in chosen_attr:\n",
    "            p_dict[attr] = project_data[attr]\n",
    "\n",
    "    project_info[project_id] = p_dict\n",
    "\n",
    "len(project_info)"
   ]
  },
  {
   "cell_type": "markdown",
   "id": "001de475",
   "metadata": {},
   "source": [
    "## read entry"
   ]
  },
  {
   "cell_type": "markdown",
   "id": "13698647",
   "metadata": {},
   "source": [
    "entry_info结构：key为entry_id，value为：\n",
    "* project_id：所属的project id\n",
    "* worker_id：完成这个任务的worker的id\n",
    "* score：完成这个任务的worker得到的分数"
   ]
  },
  {
   "cell_type": "code",
   "execution_count": null,
   "id": "e858b54f",
   "metadata": {},
   "outputs": [
    {
     "data": {
      "text/plain": [
       "486483"
      ]
     },
     "execution_count": 31,
     "metadata": {},
     "output_type": "execute_result"
    }
   ],
   "source": [
    "import json, os\n",
    "entry_info = {}\n",
    "\n",
    "\n",
    "entry_paths = os.listdir(entry_path)\n",
    "for e_path in entry_paths:\n",
    "    if not \"txt\" in e_path:\n",
    "        continue\n",
    "    p_id = int(e_path.split(\"_\")[1])\n",
    "\n",
    "    with open(entry_path + e_path, \"r\") as f:\n",
    "        entry_datas = json.loads(f.readlines()[0])['results']\n",
    "        for entry_data in entry_datas:\n",
    "            e_dict = {\"project_id\": p_id}\n",
    "            e_id = entry_data[\"id\"]\n",
    "            e_dict[\"worker_id\"] = entry_data[\"author\"]\n",
    "            e_dict[\"score\"] = entry_data[\"revisions\"][-1][\"score\"]\n",
    "            entry_info[e_id] = e_dict\n",
    "\n",
    "len(entry_info)"
   ]
  },
  {
   "cell_type": "code",
   "execution_count": null,
   "id": "00949dc6",
   "metadata": {},
   "outputs": [],
   "source": []
  }
 ],
 "metadata": {
  "kernelspec": {
   "display_name": "llama3",
   "language": "python",
   "name": "python3"
  },
  "language_info": {
   "codemirror_mode": {
    "name": "ipython",
    "version": 3
   },
   "file_extension": ".py",
   "mimetype": "text/x-python",
   "name": "python",
   "nbconvert_exporter": "python",
   "pygments_lexer": "ipython3",
   "version": "3.9.20"
  }
 },
 "nbformat": 4,
 "nbformat_minor": 5
}
