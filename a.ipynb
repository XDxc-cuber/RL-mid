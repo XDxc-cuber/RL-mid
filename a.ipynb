{
 "cells": [
  {
   "cell_type": "code",
   "execution_count": 1,
   "id": "2b7d4ef0",
   "metadata": {},
   "outputs": [
    {
     "name": "stdout",
     "output_type": "stream",
     "text": [
      " 10 / 151722\n",
      "requester s1 size: torch.Size([9, 1329])\n",
      "requester s2 size: torch.Size([9, 1329])\n",
      "requester a size: torch.Size([9, 8])\n",
      " 10 / 19723\n",
      " 10 / 19390\n"
     ]
    },
    {
     "name": "stderr",
     "output_type": "stream",
     "text": [
      "c:\\Users\\PyKing\\Desktop\\git_pull\\RL-mid\\feature.py:93: UserWarning: To copy construct from a tensor, it is recommended to use sourceTensor.clone().detach() or sourceTensor.clone().detach().requires_grad_(True), rather than torch.tensor(sourceTensor).\n",
      "  p_feature = torch.tensor(p_history[p_id2index[str(p_id)]], dtype=torch.float16)\n"
     ]
    }
   ],
   "source": [
    "from load_datas import Dataloader\n",
    "from feature import get_features\n",
    "# from dqn_worker import train_worker_dqn\n",
    "\n",
    "if __name__ == \"__main__\":\n",
    "    dataloader = Dataloader()\n",
    "\n",
    "    train_data, valid_data, test_data = dataloader.get_datas()\n",
    "\n",
    "\n",
    "    train_r_data, train_w_data = get_features(train_data, print_size=True)\n",
    "    valid_r_data, valid_w_data = get_features(valid_data)\n",
    "    test_r_data, test_w_data = get_features(test_data)"
   ]
  },
  {
   "cell_type": "code",
   "execution_count": 2,
   "id": "5b141b82",
   "metadata": {},
   "outputs": [
    {
     "data": {
      "text/plain": [
       "tensor(False)"
      ]
     },
     "execution_count": 2,
     "metadata": {},
     "output_type": "execute_result"
    }
   ],
   "source": [
    "import torch\n",
    "torch.any(torch.isnan(train_r_data['a']))"
   ]
  },
  {
   "cell_type": "code",
   "execution_count": 7,
   "id": "f26ecc8d",
   "metadata": {},
   "outputs": [
    {
     "data": {
      "text/plain": [
       "tensor(1.0729e-06)"
      ]
     },
     "execution_count": 7,
     "metadata": {},
     "output_type": "execute_result"
    }
   ],
   "source": [
    "train_r_data['s1'].sum()"
   ]
  },
  {
   "cell_type": "code",
   "execution_count": null,
   "id": "c78a590d",
   "metadata": {},
   "outputs": [],
   "source": []
  }
 ],
 "metadata": {
  "kernelspec": {
   "display_name": "Python 3",
   "language": "python",
   "name": "python3"
  },
  "language_info": {
   "codemirror_mode": {
    "name": "ipython",
    "version": 3
   },
   "file_extension": ".py",
   "mimetype": "text/x-python",
   "name": "python",
   "nbconvert_exporter": "python",
   "pygments_lexer": "ipython3",
   "version": "3.9.20"
  }
 },
 "nbformat": 4,
 "nbformat_minor": 5
}
