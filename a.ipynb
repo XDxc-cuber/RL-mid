{
 "cells": [
  {
   "cell_type": "code",
   "execution_count": 1,
   "id": "2b7d4ef0",
   "metadata": {},
   "outputs": [
    {
     "name": "stdout",
     "output_type": "stream",
     "text": [
      "151721 / 151722\n",
      "19722 / 19723\n",
      "19389 / 19390\n"
     ]
    }
   ],
   "source": [
    "import torch\n",
    "import torch.nn as nn\n",
    "from load_datas import OurData, Dataloader\n",
    "\n",
    "def de_dim(train_r_data, train_w_data, valid_r_data, valid_w_data, test_r_data, test_w_data):\n",
    "    S = torch.cat([train_r_data['s2'], valid_r_data['s2'], test_r_data['s2']], dim=0)\n",
    "    print(S.size())\n",
    "    for i in range(S.size(1)):\n",
    "        S[:,i] = (S[:,i] - S[:,i].min()) / S[:,i].max()\n",
    "    for i in range(S.size(1)):\n",
    "        print(S[:,i].min(), S[:,i].max())\n",
    "\n",
    "def get_features(data: OurData):\n",
    "    \"\"\"\n",
    "    train/valid/test:\n",
    "        _r_data:\n",
    "            {\n",
    "            \"s1\": None, 为上一条数据的s2 (为了省内存)\n",
    "            \"a\": list[int], worker的id, 大小为N\n",
    "            \"r\": list[float], 得分，大小为N\n",
    "            \"s2\": tensor (N, dim)\n",
    "            }\n",
    "        _w_data:\n",
    "            {\n",
    "            \"s1\": None, 为上一条数据的s2 (为了省内存)\n",
    "            \"a\": list[int], 是否接了任务, 大小为N\n",
    "            \"r\": list[float], 钱，大小为N\n",
    "            \"s2\": tensor (N, dim)\n",
    "            }\n",
    "    \"\"\"\n",
    "    ws, ps, es = data.workers, data.projects, data.entrys\n",
    "    requester_data, worker_data = {\"s1\": [], \"a\": [], \"r\": [], \"s2\": []}, {\"s1\": [], \"a\": [], \"r\": [], \"s2\": []}\n",
    "\n",
    "    wws = {}\n",
    "    for k, v in ws.items():\n",
    "        if v != -1:\n",
    "            wws[k] = v\n",
    "\n",
    "    w_num = len(wws)\n",
    "    e_num = len(es)\n",
    "    w_id2index, w_index2id = {}, list(wws.keys())\n",
    "    for idx, _id in enumerate(w_index2id):\n",
    "        w_id2index[_id] = idx\n",
    "    \n",
    "    # workers能力：[0, 1]\n",
    "    category_size = 7\n",
    "    sub_category_size = 29\n",
    "    history_dim = w_num * category_size\n",
    "    workers_quality = (torch.tensor([wws[w_index2id[i]] for i in range(w_num)])) / 100\n",
    "    workers_history = [0. for i in range(history_dim)]\n",
    "    workers_history_count = [-1 for i in range(history_dim)]\n",
    "    \n",
    "    # last_state = None\n",
    "    for k, e in enumerate(es):\n",
    "        print(\"%d / %d\"%(k, e_num), end='\\r')\n",
    "        w_id = str(e[\"worker_id\"])\n",
    "        if not w_id in w_id2index:\n",
    "            continue\n",
    "        state, action, reward = [], w_id2index[w_id], e[\"withdrawn\"] * e['score']\n",
    "        p = ps[str(e['project_id'])]\n",
    "\n",
    "         # 更新worker history\n",
    "        updated_index = int(action * category_size + p['category'])\n",
    "        workers_history[updated_index] += reward\n",
    "        workers_history_count[updated_index] += 1 if workers_history_count[updated_index] != -1 else 2\n",
    "        \n",
    "        # 得到s2状态\n",
    "        state.append(workers_quality.clone())\n",
    "        state.append(torch.tensor(workers_history) / torch.tensor(workers_history_count))\n",
    "        state.append(torch.tensor([p['category'], p['sub_category']]))\n",
    "        state = torch.cat(state, 0).type_as(torch.zeros(1, dtype=torch.float16))\n",
    "        \n",
    "        # s1状态就是上一个s2状态\n",
    "        # if last_state is None:\n",
    "        #     last_state = state\n",
    "        #     continue\n",
    "        # requester_data['s1'].append(last_state)\n",
    "        # worker_data['s1'].append(last_state.clone())\n",
    "        requester_data['s2'].append(state)\n",
    "        # worker_data['s2'].append(state.clone())\n",
    "        last_state = state.clone()\n",
    "        requester_data['a'].append(action)\n",
    "        requester_data['r'].append(reward)\n",
    "\n",
    "        worker_data['a'].append(e[\"withdrawn\"])\n",
    "        worker_data['r'].append(e[\"withdrawn\"] * p['total_awards'] / p['entry_count'])\n",
    "\n",
    "    # requester_data['s1'] = torch.stack(requester_data['s1'], dim=0)\n",
    "    requester_data['s2'] = torch.stack(requester_data['s2'], dim=0)\n",
    "    # worker_data['s1'] = torch.stack(worker_data['s1'], dim=0)\n",
    "    # worker_data['s2'] = torch.stack(worker_data['s2'], dim=0)\n",
    "    print()\n",
    "\n",
    "    return requester_data, worker_data\n",
    "       \n",
    "\n",
    "dataloader = Dataloader()\n",
    "\n",
    "train_data, valid_data, test_data = dataloader.get_datas()\n",
    "\n",
    "\n",
    "train_r_data, train_w_data = get_features(train_data)\n",
    "valid_r_data, valid_w_data = get_features(valid_data)\n",
    "test_r_data, test_w_data = get_features(test_data)\n",
    "\n",
    "\n",
    "\n",
    "\n",
    "\n"
   ]
  },
  {
   "cell_type": "code",
   "execution_count": 3,
   "id": "45e4f008",
   "metadata": {},
   "outputs": [
    {
     "name": "stdout",
     "output_type": "stream",
     "text": [
      "torch.Size([172477, 13226])\n"
     ]
    }
   ],
   "source": [
    "\n",
    "S = torch.cat([train_r_data['s2'], valid_r_data['s2'], test_r_data['s2']], dim=0)\n",
    "print(S.size())\n",
    "for i in range(S.size(1)):\n",
    "    S[:,i] = (S[:,i] - S[:,i].min()) / S[:,i].max()"
   ]
  },
  {
   "cell_type": "code",
   "execution_count": 4,
   "id": "13590cf1",
   "metadata": {},
   "outputs": [],
   "source": [
    "n = S.size(0)\n",
    "S_centered = S - torch.mean(S, dim=0)"
   ]
  },
  {
   "cell_type": "code",
   "execution_count": null,
   "id": "8415f4f9",
   "metadata": {},
   "outputs": [],
   "source": [
    "torch.save((train_r_data['a'], train_r_data['r'], valid_r_data['a'], valid_r_data['r'],test_r_data['a'], test_r_data['r']), \"all_ar.pt\")"
   ]
  },
  {
   "cell_type": "code",
   "execution_count": 6,
   "id": "9af40e71",
   "metadata": {},
   "outputs": [],
   "source": [
    "del train_r_data, train_w_data, valid_r_data, valid_w_data, test_r_data, test_w_data"
   ]
  },
  {
   "cell_type": "code",
   "execution_count": 7,
   "id": "3839827b",
   "metadata": {},
   "outputs": [],
   "source": [
    "del S"
   ]
  },
  {
   "cell_type": "code",
   "execution_count": null,
   "id": "4a412f31",
   "metadata": {},
   "outputs": [],
   "source": [
    "cov_matrix = torch.mm(S_centered.t(), S_centered) / (n - 1)"
   ]
  },
  {
   "cell_type": "code",
   "execution_count": null,
   "id": "5b141b82",
   "metadata": {},
   "outputs": [],
   "source": []
  }
 ],
 "metadata": {
  "kernelspec": {
   "display_name": "llama3",
   "language": "python",
   "name": "python3"
  },
  "language_info": {
   "codemirror_mode": {
    "name": "ipython",
    "version": 3
   },
   "file_extension": ".py",
   "mimetype": "text/x-python",
   "name": "python",
   "nbconvert_exporter": "python",
   "pygments_lexer": "ipython3",
   "version": "3.9.20"
  }
 },
 "nbformat": 4,
 "nbformat_minor": 5
}
